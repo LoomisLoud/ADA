{
 "cells": [
  {
   "cell_type": "code",
   "execution_count": 94,
   "metadata": {
    "collapsed": false
   },
   "outputs": [
    {
     "name": "stdout",
     "output_type": "stream",
     "text": [
      "62.68194671826165\n",
      "86.24275809668535\n",
      "64.80197549624846\n",
      "34.906980205387704\n",
      "56.78349108894005\n",
      "65.58041748010211\n",
      "15.289502856655583\n",
      "2.411073076350647\n"
     ]
    }
   ],
   "source": [
    "import csv\n",
    "from functools import reduce\n",
    "\n",
    "def clearData(row):\n",
    "    for cat in row:\n",
    "        if cat.strip().replace(\"\\\"\",\"\") == \"None selected\":\n",
    "            return False\n",
    "    return True\n",
    "    \n",
    "\n",
    "with open('interactive_data.csv', 'r') as csvfile:\n",
    "    data = list(csv.reader(csvfile, delimiter=',', quotechar='|'))\n",
    "    data.pop(0)\n",
    "    \n",
    "    \n",
    "    data = list(filter(lambda row: clearData(row),data))\n",
    "    \n",
    "    deaths = sum(list(map((lambda x: int(x[5])),data)))\n",
    "    suicideList = list(filter(lambda x: x[1] == \"\\\"Suicide\\\"\",data))\n",
    "    \n",
    "    suicide = sum(list(map(lambda x: int(x[5]),suicideList)))\n",
    "    print(suicide/deaths*100)\n",
    "    \n",
    "    maleSuicide = sum(list(map(lambda x: int(x[5]),list(filter(lambda x: x[2] == \"\\\"Male\\\"\",suicideList)))))\n",
    "    print(maleSuicide/suicide*100)\n",
    "    \n",
    "    olderManSuicide = sum(list(map(lambda x: int(x[5]),list(filter(lambda x: x[2] == \"\\\"Male\\\"\" and (x[3] == \"\\\"35 - 64\\\"\" or x[3] == \"\\\"65+\\\"\") ,suicideList)))))\n",
    "    print(olderManSuicide/suicide*100)\n",
    "    \n",
    "    homicideList = list(filter(lambda x: x[1] == \"\\\"Homicide\\\"\",data))\n",
    "    homicide = sum(list(map(lambda x: int(x[5]),homicideList)))\n",
    "    print(homicide/deaths*100) \n",
    "    \n",
    "    youngMenHomicideList = list(filter(lambda x: x[2] == \"\\\"Male\\\"\" and (x[3] == \"\\\"Under 15\\\"\" or x[3] == \"\\\"15 - 34\\\"\" or x[3] == \"\\\"5\\\"\"),homicideList))\n",
    "    youngMenHomicide = sum(list(map(lambda x: int(x[5]),youngMenHomicideList)))\n",
    "    print(youngMenHomicide/homicide*100)  \n",
    "    \n",
    "    blackMaleHomicide = sum(list(map(lambda x: int(x[5]),list(filter(lambda x: x[4] == \"\\\"Black\\\"\",youngMenHomicideList)))))\n",
    "    print(blackMaleHomicide/youngMenHomicide*100)\n",
    "\n",
    "    femaleHomicide = sum(list(map(lambda x: int(x[5]),list(filter(lambda x: x[2] == \"\\\"Female\\\"\",homicideList)))))\n",
    "    print(femaleHomicide/homicide*100)\n",
    "    \n",
    "    others = sum(list(map(lambda x: int(x[5]),list(filter(lambda x: x[1] == \"\\\"Unknown\\\"\" or x[1] == \"\\\"Accident\\\"\" ,data)))))\n",
    "    print(others/deaths*100)"
   ]
  },
  {
   "cell_type": "code",
   "execution_count": 129,
   "metadata": {
    "collapsed": false
   },
   "outputs": [
    {
     "name": "stdout",
     "output_type": "stream",
     "text": [
      "62.68194671826165\n",
      "86.24275809668535\n",
      "64.80197549624846\n",
      "34.906980205387704\n",
      "56.78349108894005\n",
      "65.58041748010211\n",
      "15.289502856655583\n",
      "2.411073076350647\n"
     ]
    }
   ],
   "source": [
    "import pandas as pd\n",
    "\n",
    "data = pd.DataFrame.from_csv(\"interactive_data.csv\")\n",
    "data = data[(data.Intent != \"None selected\") & (data.Gender != \"None selected\") & (data.Age != \"None selected\") \n",
    "            & (data.Race != \"None selected\" )]\n",
    "deaths = data.Deaths.sum()\n",
    "\n",
    "suicideList = data[data.Intent == \"Suicide\"]\n",
    "suicide = suicideList.Deaths.sum()\n",
    "print(suicide/deaths*100)\n",
    "\n",
    "manSuicide = suicideList[suicideList.Gender == \"Male\"].Deaths.sum()\n",
    "print(manSuicide/suicide*100)\n",
    "\n",
    "olderManSuicide = suicideList[(suicideList.Gender == \"Male\") & ((suicideList.Age == \"65+\") | (suicideList.Age == \"35 - 64\")) ].Deaths.sum()\n",
    "print(olderManSuicide/suicide*100)\n",
    "\n",
    "homicideList = data[data.Intent == \"Homicide\"]\n",
    "homicide = homicideList.Deaths.sum()\n",
    "print(homicide/deaths*100)\n",
    "\n",
    "youngManHomicideList = homicideList[(homicideList.Gender == \"Male\") & ((homicideList.Age == \"5\") | (homicideList.Age == \"Under 15\") | (homicideList.Age == \"15 - 34\"))]\n",
    "youngManHomicide = youngManHomicideList.Deaths.sum()\n",
    "print(youngManHomicide/homicide*100)\n",
    "\n",
    "blackManHomicide = youngManHomicideList[youngManHomicideList.Race == \"Black\"].Deaths.sum()\n",
    "print(blackManHomicide/youngManHomicide*100)\n",
    "\n",
    "femaleHomicide = homicideList[homicideList.Gender == \"Female\"].Deaths.sum()\n",
    "print(femaleHomicide/homicide*100)\n",
    "\n",
    "others = data[data.Intent.isin([\"Accident\", \"Unknown\"])].Deaths.sum()\n",
    "print(others/deaths*100)"
   ]
  }
 ],
 "metadata": {
  "kernelspec": {
   "display_name": "Python 3",
   "language": "python",
   "name": "python3"
  },
  "language_info": {
   "codemirror_mode": {
    "name": "ipython",
    "version": 3
   },
   "file_extension": ".py",
   "mimetype": "text/x-python",
   "name": "python",
   "nbconvert_exporter": "python",
   "pygments_lexer": "ipython3",
   "version": "3.6.0"
  }
 },
 "nbformat": 4,
 "nbformat_minor": 2
}
