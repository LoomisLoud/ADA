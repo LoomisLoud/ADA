{
 "cells": [
  {
   "cell_type": "code",
   "execution_count": 1,
   "metadata": {},
   "outputs": [],
   "source": [
    "from difflib import SequenceMatcher\n",
    "from sklearn.feature_extraction.text import TfidfVectorizer\n",
    "from textblob import TextBlob, Word\n",
    "import numpy as np\n",
    "import pandas as pd\n",
    "import re"
   ]
  },
  {
   "cell_type": "markdown",
   "metadata": {
    "collapsed": true
   },
   "source": [
    "# Machine Learning Pipeline\n",
    "Here is the pipeline that we will be following in order to obtain the final \"on the fly\" movie recommendation for a never seen twitter user.\n",
    "\n",
    "### Data selection\n",
    "We select only the english tweets, all talking about movies using our filter, and after retrieving the names of each distinct user, we can match them against all of the twitter database to get the final dataset. The said dataset contains all of the tweets for each user that ever rated a movie on IMDB on twitter.\n",
    "\n",
    "### Twitter user vectors\n",
    "For the totality of tweets for each twitter user, we compute the vector the following way, we remove:\n",
    "    - Stopwords\n",
    "    - Numbers\n",
    "    - Punctuation\n",
    "    - Special characters\n",
    "    - Hyperlinks\n",
    "We then proceed to stem each term after lowering, and compute 2-grams. With this new dataset, we compute a simple TF-IDF using all of the tweets of each user as a document, and each found word as a feature.\n",
    "\n",
    "### Similarity\n",
    "Everytime we see a new user, we compute the vector of all his/her tweets, and then compare it to all of the other users by computing their cosine similarity, we finally then get a new list of similarities that we can sort to find out with which other user that talks about movies our own user has similarities.\n",
    "\n",
    "## Movie prediction\n",
    "Using the matrix of TF-IDF joined with the new user, we can compute its similarity to every other user, and pick the few highest similarities. Using these best matches, and their liked movie genres, we can recommend a list of ordered movies to the new user.\n",
    "\n",
    "\n",
    "### Bonus\n",
    "We probably will have time by the end of the project to dive deep into the data to leverage some interesting stories for each user.\n",
    "\n",
    "-------------------------"
   ]
  },
  {
   "cell_type": "markdown",
   "metadata": {},
   "source": [
    "# Spark"
   ]
  },
  {
   "cell_type": "code",
   "execution_count": null,
   "metadata": {},
   "outputs": [],
   "source": [
    "# language, id, date, user_id, tweet\n",
    "import sys\n",
    "reload(sys)\n",
    "sys.setdefaultencoding('utf-8')\n",
    "tweets = sc.textFile(\"/datasets/tweets-leon\")\n",
    "good_tweets = tweets.map(lambda s: tuple(s.split('\\t'))).filter(lambda s: s[0] == 'en')\n",
    "\n",
    "# There are 12 488 903 101 tweets in english, in the dataset\n",
    "\n",
    "def filter_tweets_about_movies(row):\n",
    "    \"\"\"\n",
    "    This function is used to filter out tweets based on if they rate\n",
    "    an IMDB movie or not. \n",
    "    Returns a True or False depending on wether they rate a movie.\n",
    "    \"\"\"\n",
    "    if len(row) < 5:\n",
    "        return False\n",
    "    return row[4].lower().find('imdb') > -1 and row[4].lower().find('i rated') > -1\n",
    "\n",
    "user_about_movies = good_tweets.filter(lambda x: filter_tweets_about_movies(x)).map(lambda x: x[3]).distinct()\n",
    "user_as_key = good_tweets.filter(lambda x: x in user_about_movies).map(lambda x: (x[3],x[4]))"
   ]
  },
  {
   "cell_type": "markdown",
   "metadata": {},
   "source": [
    "# Sampled tweets"
   ]
  },
  {
   "cell_type": "code",
   "execution_count": 2,
   "metadata": {
    "scrolled": true
   },
   "outputs": [],
   "source": [
    "tweets = pd.read_csv('data/tweets_sampled.csv', delimiter='|', names=['language', 'id', 'date', 'user', 'text'], header=None, encoding='utf8')\n",
    "tweets = tweets.set_index('id')\n",
    "tweets.text.replace('&amp;', '&', regex=True,inplace=True)"
   ]
  },
  {
   "cell_type": "code",
   "execution_count": 3,
   "metadata": {},
   "outputs": [],
   "source": [
    "def get_rate_and_movies(tweet, rate=True):\n",
    "    m = re.search('I rated (.+)\\s(\\d+/\\d\\d)', tweet )\n",
    "    if rate:\n",
    "        return m.group(2)\n",
    "    return m.group(1)"
   ]
  },
  {
   "cell_type": "code",
   "execution_count": 4,
   "metadata": {},
   "outputs": [],
   "source": [
    "def get_users(row):\n",
    "    return row['text'].lower().find('imdb') > -1 and row['text'].lower().find('i rated') > -1"
   ]
  },
  {
   "cell_type": "code",
   "execution_count": 5,
   "metadata": {},
   "outputs": [],
   "source": [
    "users = tweets[tweets.apply(lambda row: get_users(row), axis=1)].copy()"
   ]
  },
  {
   "cell_type": "code",
   "execution_count": 6,
   "metadata": {},
   "outputs": [
    {
     "data": {
      "text/html": [
       "<div>\n",
       "<style>\n",
       "    .dataframe thead tr:only-child th {\n",
       "        text-align: right;\n",
       "    }\n",
       "\n",
       "    .dataframe thead th {\n",
       "        text-align: left;\n",
       "    }\n",
       "\n",
       "    .dataframe tbody tr th {\n",
       "        vertical-align: top;\n",
       "    }\n",
       "</style>\n",
       "<table border=\"1\" class=\"dataframe\">\n",
       "  <thead>\n",
       "    <tr style=\"text-align: right;\">\n",
       "      <th></th>\n",
       "      <th>language</th>\n",
       "      <th>date</th>\n",
       "      <th>user</th>\n",
       "      <th>text</th>\n",
       "      <th>rate_movie</th>\n",
       "      <th>title</th>\n",
       "      <th>temp</th>\n",
       "    </tr>\n",
       "    <tr>\n",
       "      <th>id</th>\n",
       "      <th></th>\n",
       "      <th></th>\n",
       "      <th></th>\n",
       "      <th></th>\n",
       "      <th></th>\n",
       "      <th></th>\n",
       "      <th></th>\n",
       "    </tr>\n",
       "  </thead>\n",
       "  <tbody>\n",
       "    <tr>\n",
       "      <th>257268213925163008</th>\n",
       "      <td>en</td>\n",
       "      <td>Sat Oct 13 23:54:56 +0000 2012</td>\n",
       "      <td>thalassini_ap</td>\n",
       "      <td>I rated The Skin I Live In 7/10 http://t.co/9K...</td>\n",
       "      <td>7/10</td>\n",
       "      <td>The Skin I Live In</td>\n",
       "      <td>1</td>\n",
       "    </tr>\n",
       "    <tr>\n",
       "      <th>356986999091105792</th>\n",
       "      <td>en</td>\n",
       "      <td>Tue Jul 16 04:01:47 +0000 2013</td>\n",
       "      <td>mookieineugene</td>\n",
       "      <td>I rated Tyrannosaur 8/10 http://t.co/7ALLdUDzz...</td>\n",
       "      <td>8/10</td>\n",
       "      <td>Tyrannosaur</td>\n",
       "      <td>1</td>\n",
       "    </tr>\n",
       "    <tr>\n",
       "      <th>204711915803512832</th>\n",
       "      <td>en</td>\n",
       "      <td>Mon May 21 23:14:58 +0000 2012</td>\n",
       "      <td>loyacmoiveclub</td>\n",
       "      <td>I rated Melancholia 7/10 http://t.co/GqofMiC5 ...</td>\n",
       "      <td>7/10</td>\n",
       "      <td>Melancholia</td>\n",
       "      <td>1</td>\n",
       "    </tr>\n",
       "    <tr>\n",
       "      <th>339882044429594624</th>\n",
       "      <td>en</td>\n",
       "      <td>Wed May 29 23:12:48 +0000 2013</td>\n",
       "      <td>CamShel06</td>\n",
       "      <td>I rated Safety Not Guaranteed 7/10 http://t.co...</td>\n",
       "      <td>7/10</td>\n",
       "      <td>Safety Not Guaranteed</td>\n",
       "      <td>1</td>\n",
       "    </tr>\n",
       "    <tr>\n",
       "      <th>363269277907828737</th>\n",
       "      <td>en</td>\n",
       "      <td>Fri Aug 02 12:05:19 +0000 2013</td>\n",
       "      <td>chediJ</td>\n",
       "      <td>I rated This Means War 6/10 http://t.co/5LKEhM...</td>\n",
       "      <td>6/10</td>\n",
       "      <td>This Means War</td>\n",
       "      <td>1</td>\n",
       "    </tr>\n",
       "  </tbody>\n",
       "</table>\n",
       "</div>"
      ],
      "text/plain": [
       "                   language                            date            user  \\\n",
       "id                                                                            \n",
       "257268213925163008       en  Sat Oct 13 23:54:56 +0000 2012   thalassini_ap   \n",
       "356986999091105792       en  Tue Jul 16 04:01:47 +0000 2013  mookieineugene   \n",
       "204711915803512832       en  Mon May 21 23:14:58 +0000 2012  loyacmoiveclub   \n",
       "339882044429594624       en  Wed May 29 23:12:48 +0000 2013       CamShel06   \n",
       "363269277907828737       en  Fri Aug 02 12:05:19 +0000 2013          chediJ   \n",
       "\n",
       "                                                                 text  \\\n",
       "id                                                                      \n",
       "257268213925163008  I rated The Skin I Live In 7/10 http://t.co/9K...   \n",
       "356986999091105792  I rated Tyrannosaur 8/10 http://t.co/7ALLdUDzz...   \n",
       "204711915803512832  I rated Melancholia 7/10 http://t.co/GqofMiC5 ...   \n",
       "339882044429594624  I rated Safety Not Guaranteed 7/10 http://t.co...   \n",
       "363269277907828737  I rated This Means War 6/10 http://t.co/5LKEhM...   \n",
       "\n",
       "                   rate_movie                  title  temp  \n",
       "id                                                          \n",
       "257268213925163008       7/10     The Skin I Live In     1  \n",
       "356986999091105792       8/10            Tyrannosaur     1  \n",
       "204711915803512832       7/10            Melancholia     1  \n",
       "339882044429594624       7/10  Safety Not Guaranteed     1  \n",
       "363269277907828737       6/10         This Means War     1  "
      ]
     },
     "execution_count": 6,
     "metadata": {},
     "output_type": "execute_result"
    }
   ],
   "source": [
    "users['rate_movie'] = users.apply(lambda row: get_rate_and_movies(row['text']), axis=1)\n",
    "users['title'] = users.apply(lambda row: get_rate_and_movies(row['text'], False), axis=1)\n",
    "\n",
    "users['temp'] = 1\n",
    "users.head()"
   ]
  },
  {
   "cell_type": "code",
   "execution_count": 7,
   "metadata": {
    "scrolled": true
   },
   "outputs": [],
   "source": [
    "def date_parser(date):\n",
    "    # returns the date under day/month/year format\n",
    "    months = ['Jan', 'Feb', 'Mar',\n",
    "              'Apr', 'May', 'Jun', \n",
    "              'Jul', 'Aug', 'Sep', \n",
    "              'Oct', 'Nov', 'Dec']\n",
    "    month_mapper = { month: months.index(month) + 1 for month in months }\n",
    "    date = date.split()\n",
    "    return \"{}/{}/{}\".format(date[2], month_mapper[date[1]], date[-1])\n",
    "    \n",
    "tweets.date = tweets.date.apply(func=date_parser)\n",
    "tweets['datetime'] = pd.to_datetime(tweets.date, format='%d/%m/%Y')\n",
    "tweets.drop('date', axis=1, inplace=True)"
   ]
  },
  {
   "cell_type": "code",
   "execution_count": 8,
   "metadata": {},
   "outputs": [],
   "source": [
    "# create a new column text_clean with the preprocessed tweet\n",
    "f1 = lambda t: ' '.join(re.sub(\"(@[A-Za-z0-9]+)|([^0-9A-Za-z \\t])|(\\w+:\\/\\/\\S+)\", \" \", t.lower()).split())\n",
    "f = lambda t: ' '.join(re.sub(\"([^0-9A-Za-z \\t])|(\\w+:\\/\\/\\S+)\", \" \", t.lower()).split())\n",
    "tweets['text_clean'] = tweets['text'].replace(r'\\\\n', ' ', regex=True).map(f)"
   ]
  },
  {
   "cell_type": "markdown",
   "metadata": {},
   "source": [
    "# Movies"
   ]
  },
  {
   "cell_type": "code",
   "execution_count": 9,
   "metadata": {
    "scrolled": true
   },
   "outputs": [],
   "source": [
    "#tmdb_credits = pd.read_csv('data/tmdb_5000_credits.csv', delimiter=',')\n",
    "tmdb_movies = pd.read_csv('data/tmdb_5000_movies.csv', delimiter=',', parse_dates=['release_date'])"
   ]
  },
  {
   "cell_type": "code",
   "execution_count": 10,
   "metadata": {
    "scrolled": true
   },
   "outputs": [
    {
     "data": {
      "text/html": [
       "<div>\n",
       "<style>\n",
       "    .dataframe thead tr:only-child th {\n",
       "        text-align: right;\n",
       "    }\n",
       "\n",
       "    .dataframe thead th {\n",
       "        text-align: left;\n",
       "    }\n",
       "\n",
       "    .dataframe tbody tr th {\n",
       "        vertical-align: top;\n",
       "    }\n",
       "</style>\n",
       "<table border=\"1\" class=\"dataframe\">\n",
       "  <thead>\n",
       "    <tr style=\"text-align: right;\">\n",
       "      <th></th>\n",
       "      <th>original_language</th>\n",
       "      <th>original_title</th>\n",
       "      <th>popularity</th>\n",
       "      <th>release_date</th>\n",
       "      <th>title</th>\n",
       "      <th>vote_average</th>\n",
       "      <th>temp</th>\n",
       "    </tr>\n",
       "    <tr>\n",
       "      <th>id</th>\n",
       "      <th></th>\n",
       "      <th></th>\n",
       "      <th></th>\n",
       "      <th></th>\n",
       "      <th></th>\n",
       "      <th></th>\n",
       "      <th></th>\n",
       "    </tr>\n",
       "  </thead>\n",
       "  <tbody>\n",
       "    <tr>\n",
       "      <th>89861</th>\n",
       "      <td>en</td>\n",
       "      <td>Stiff Upper Lips</td>\n",
       "      <td>0.356495</td>\n",
       "      <td>1998-06-12</td>\n",
       "      <td>Stiff Upper Lips</td>\n",
       "      <td>10.0</td>\n",
       "      <td>1</td>\n",
       "    </tr>\n",
       "    <tr>\n",
       "      <th>361505</th>\n",
       "      <td>en</td>\n",
       "      <td>Me You and Five Bucks</td>\n",
       "      <td>0.094105</td>\n",
       "      <td>2015-07-07</td>\n",
       "      <td>Me You and Five Bucks</td>\n",
       "      <td>10.0</td>\n",
       "      <td>1</td>\n",
       "    </tr>\n",
       "    <tr>\n",
       "      <th>78373</th>\n",
       "      <td>en</td>\n",
       "      <td>Dancer, Texas Pop. 81</td>\n",
       "      <td>0.376662</td>\n",
       "      <td>1998-05-01</td>\n",
       "      <td>Dancer, Texas Pop. 81</td>\n",
       "      <td>10.0</td>\n",
       "      <td>1</td>\n",
       "    </tr>\n",
       "    <tr>\n",
       "      <th>40963</th>\n",
       "      <td>en</td>\n",
       "      <td>Little Big Top</td>\n",
       "      <td>0.092100</td>\n",
       "      <td>2006-01-01</td>\n",
       "      <td>Little Big Top</td>\n",
       "      <td>10.0</td>\n",
       "      <td>1</td>\n",
       "    </tr>\n",
       "    <tr>\n",
       "      <th>346081</th>\n",
       "      <td>en</td>\n",
       "      <td>Sardaarji</td>\n",
       "      <td>0.296981</td>\n",
       "      <td>2015-06-26</td>\n",
       "      <td>Sardaarji</td>\n",
       "      <td>9.5</td>\n",
       "      <td>1</td>\n",
       "    </tr>\n",
       "  </tbody>\n",
       "</table>\n",
       "</div>"
      ],
      "text/plain": [
       "       original_language         original_title  popularity release_date  \\\n",
       "id                                                                         \n",
       "89861                 en       Stiff Upper Lips    0.356495   1998-06-12   \n",
       "361505                en  Me You and Five Bucks    0.094105   2015-07-07   \n",
       "78373                 en  Dancer, Texas Pop. 81    0.376662   1998-05-01   \n",
       "40963                 en         Little Big Top    0.092100   2006-01-01   \n",
       "346081                en              Sardaarji    0.296981   2015-06-26   \n",
       "\n",
       "                        title  vote_average  temp  \n",
       "id                                                 \n",
       "89861        Stiff Upper Lips          10.0     1  \n",
       "361505  Me You and Five Bucks          10.0     1  \n",
       "78373   Dancer, Texas Pop. 81          10.0     1  \n",
       "40963          Little Big Top          10.0     1  \n",
       "346081              Sardaarji           9.5     1  "
      ]
     },
     "execution_count": 10,
     "metadata": {},
     "output_type": "execute_result"
    }
   ],
   "source": [
    "tmdb_movies_df = tmdb_movies[['id', 'original_language', 'original_title', 'popularity', 'release_date', 'title', 'vote_average']]\n",
    "tmdb_movies_df = tmdb_movies_df.set_index('id')\n",
    "tmdb_movies_df = tmdb_movies_df.sort_values('vote_average', ascending=False)\n",
    "tmdb_movies_df['temp'] = 1\n",
    "tmdb_movies_df.head()"
   ]
  },
  {
   "cell_type": "code",
   "execution_count": 11,
   "metadata": {},
   "outputs": [],
   "source": [
    "def similarity(title1, title2):\n",
    "    return SequenceMatcher(None,title1, title2).ratio() > 0.85"
   ]
  },
  {
   "cell_type": "code",
   "execution_count": 12,
   "metadata": {},
   "outputs": [
    {
     "name": "stdout",
     "output_type": "stream",
     "text": [
      "(11, 13)\n"
     ]
    },
    {
     "data": {
      "text/html": [
       "<div>\n",
       "<style>\n",
       "    .dataframe thead tr:only-child th {\n",
       "        text-align: right;\n",
       "    }\n",
       "\n",
       "    .dataframe thead th {\n",
       "        text-align: left;\n",
       "    }\n",
       "\n",
       "    .dataframe tbody tr th {\n",
       "        vertical-align: top;\n",
       "    }\n",
       "</style>\n",
       "<table border=\"1\" class=\"dataframe\">\n",
       "  <thead>\n",
       "    <tr style=\"text-align: right;\">\n",
       "      <th></th>\n",
       "      <th>original_language</th>\n",
       "      <th>original_title</th>\n",
       "      <th>popularity</th>\n",
       "      <th>release_date</th>\n",
       "      <th>title_x</th>\n",
       "      <th>vote_average</th>\n",
       "      <th>temp</th>\n",
       "      <th>language</th>\n",
       "      <th>date</th>\n",
       "      <th>user</th>\n",
       "      <th>text</th>\n",
       "      <th>rate_movie</th>\n",
       "      <th>title_y</th>\n",
       "    </tr>\n",
       "  </thead>\n",
       "  <tbody>\n",
       "    <tr>\n",
       "      <th>3501</th>\n",
       "      <td>en</td>\n",
       "      <td>Jurassic Park</td>\n",
       "      <td>40.413191</td>\n",
       "      <td>1993-06-11</td>\n",
       "      <td>Jurassic Park</td>\n",
       "      <td>7.6</td>\n",
       "      <td>1</td>\n",
       "      <td>en</td>\n",
       "      <td>Sun Nov 25 01:01:54 +0000 2012</td>\n",
       "      <td>kxi</td>\n",
       "      <td>I rated Jurassic Park III 5/10 http://t.co/dUG...</td>\n",
       "      <td>5/10</td>\n",
       "      <td>Jurassic Park III</td>\n",
       "    </tr>\n",
       "    <tr>\n",
       "      <th>9653</th>\n",
       "      <td>en</td>\n",
       "      <td>Life as a House</td>\n",
       "      <td>5.706767</td>\n",
       "      <td>2001-10-25</td>\n",
       "      <td>Life as a House</td>\n",
       "      <td>7.2</td>\n",
       "      <td>1</td>\n",
       "      <td>en</td>\n",
       "      <td>Sun Jul 22 20:35:19 +0000 2012</td>\n",
       "      <td>rymdforskarn</td>\n",
       "      <td>I rated Life as a House 9/10 http://t.co/I4HnI...</td>\n",
       "      <td>9/10</td>\n",
       "      <td>Life as a House</td>\n",
       "    </tr>\n",
       "    <tr>\n",
       "      <th>10629</th>\n",
       "      <td>en</td>\n",
       "      <td>The Proposition</td>\n",
       "      <td>14.617944</td>\n",
       "      <td>2005-10-06</td>\n",
       "      <td>The Proposition</td>\n",
       "      <td>7.1</td>\n",
       "      <td>1</td>\n",
       "      <td>en</td>\n",
       "      <td>Sat Aug 31 22:31:16 +0000 2013</td>\n",
       "      <td>iEDWINnl</td>\n",
       "      <td>Now that's silly crap. Wasting my time. I rate...</td>\n",
       "      <td>1/10</td>\n",
       "      <td>The Proposition</td>\n",
       "    </tr>\n",
       "    <tr>\n",
       "      <th>13556</th>\n",
       "      <td>en</td>\n",
       "      <td>Monsters University</td>\n",
       "      <td>89.186492</td>\n",
       "      <td>2013-06-20</td>\n",
       "      <td>Monsters University</td>\n",
       "      <td>7.0</td>\n",
       "      <td>1</td>\n",
       "      <td>en</td>\n",
       "      <td>Wed Jul 24 18:13:26 +0000 2013</td>\n",
       "      <td>jckfrdplus44</td>\n",
       "      <td>I rated Monsters University 8/10. Awesome, fun...</td>\n",
       "      <td>8/10</td>\n",
       "      <td>Monsters University</td>\n",
       "    </tr>\n",
       "    <tr>\n",
       "      <th>14747</th>\n",
       "      <td>da</td>\n",
       "      <td>Melancholia</td>\n",
       "      <td>36.173598</td>\n",
       "      <td>2011-05-26</td>\n",
       "      <td>Melancholia</td>\n",
       "      <td>7.0</td>\n",
       "      <td>1</td>\n",
       "      <td>en</td>\n",
       "      <td>Mon May 21 23:14:58 +0000 2012</td>\n",
       "      <td>loyacmoiveclub</td>\n",
       "      <td>I rated Melancholia 7/10 http://t.co/GqofMiC5 ...</td>\n",
       "      <td>7/10</td>\n",
       "      <td>Melancholia</td>\n",
       "    </tr>\n",
       "  </tbody>\n",
       "</table>\n",
       "</div>"
      ],
      "text/plain": [
       "      original_language       original_title  popularity release_date  \\\n",
       "3501                 en        Jurassic Park   40.413191   1993-06-11   \n",
       "9653                 en      Life as a House    5.706767   2001-10-25   \n",
       "10629                en      The Proposition   14.617944   2005-10-06   \n",
       "13556                en  Monsters University   89.186492   2013-06-20   \n",
       "14747                da          Melancholia   36.173598   2011-05-26   \n",
       "\n",
       "                   title_x  vote_average  temp language  \\\n",
       "3501         Jurassic Park           7.6     1       en   \n",
       "9653       Life as a House           7.2     1       en   \n",
       "10629      The Proposition           7.1     1       en   \n",
       "13556  Monsters University           7.0     1       en   \n",
       "14747          Melancholia           7.0     1       en   \n",
       "\n",
       "                                 date            user  \\\n",
       "3501   Sun Nov 25 01:01:54 +0000 2012             kxi   \n",
       "9653   Sun Jul 22 20:35:19 +0000 2012    rymdforskarn   \n",
       "10629  Sat Aug 31 22:31:16 +0000 2013        iEDWINnl   \n",
       "13556  Wed Jul 24 18:13:26 +0000 2013    jckfrdplus44   \n",
       "14747  Mon May 21 23:14:58 +0000 2012  loyacmoiveclub   \n",
       "\n",
       "                                                    text rate_movie  \\\n",
       "3501   I rated Jurassic Park III 5/10 http://t.co/dUG...       5/10   \n",
       "9653   I rated Life as a House 9/10 http://t.co/I4HnI...       9/10   \n",
       "10629  Now that's silly crap. Wasting my time. I rate...       1/10   \n",
       "13556  I rated Monsters University 8/10. Awesome, fun...       8/10   \n",
       "14747  I rated Melancholia 7/10 http://t.co/GqofMiC5 ...       7/10   \n",
       "\n",
       "                   title_y  \n",
       "3501     Jurassic Park III  \n",
       "9653       Life as a House  \n",
       "10629      The Proposition  \n",
       "13556  Monsters University  \n",
       "14747          Melancholia  "
      ]
     },
     "execution_count": 12,
     "metadata": {},
     "output_type": "execute_result"
    }
   ],
   "source": [
    "#Get df with twwets about movie link to the movie\n",
    "merge_df = pd.merge(tmdb_movies_df, users, on='temp')\n",
    "merge_df = merge_df[merge_df.apply(lambda row: similarity(row['title_x'], row['title_y']), axis=1)]\n",
    "print(merge_df.shape)\n",
    "merge_df.head()"
   ]
  },
  {
   "cell_type": "markdown",
   "metadata": {},
   "source": [
    "# similarity between users\n",
    "\n",
    "## 1 clean data\n",
    "\n",
    "we get a csv with the username, and text composed by all the tweet for the given user that have talked about movies. thus we have to preprocess it, in order to have clean tweets ready to be used."
   ]
  },
  {
   "cell_type": "code",
   "execution_count": 13,
   "metadata": {},
   "outputs": [],
   "source": [
    "csv_df = tweets.reset_index()[['user', 'text']].groupby('user').sum()"
   ]
  },
  {
   "cell_type": "code",
   "execution_count": 14,
   "metadata": {},
   "outputs": [],
   "source": [
    "def preprocess_data(df):\n",
    "    data = df.copy()\n",
    "    # We start to delete the link, and all the symbol in the tweets\n",
    "    f = lambda t: ' '.join(re.sub(\"(@[A-Za-z0-9]+)|([^0-9A-Za-z \\t])|(\\w+:\\/\\/\\S+)|(\\d+)\", \" \", t.lower()).split())\n",
    "    data['text'] = data['text'].replace(r'\\\\n', ' ', regex=True).map(f)\n",
    "    # then we stem our words\n",
    "    data['text'] = [Word(word).stem() for word in data['text']]\n",
    "    return data"
   ]
  },
  {
   "cell_type": "code",
   "execution_count": 15,
   "metadata": {},
   "outputs": [
    {
     "data": {
      "text/html": [
       "<div>\n",
       "<style>\n",
       "    .dataframe thead tr:only-child th {\n",
       "        text-align: right;\n",
       "    }\n",
       "\n",
       "    .dataframe thead th {\n",
       "        text-align: left;\n",
       "    }\n",
       "\n",
       "    .dataframe tbody tr th {\n",
       "        vertical-align: top;\n",
       "    }\n",
       "</style>\n",
       "<table border=\"1\" class=\"dataframe\">\n",
       "  <thead>\n",
       "    <tr style=\"text-align: right;\">\n",
       "      <th></th>\n",
       "      <th>text</th>\n",
       "    </tr>\n",
       "    <tr>\n",
       "      <th>user</th>\n",
       "      <th></th>\n",
       "    </tr>\n",
       "  </thead>\n",
       "  <tbody>\n",
       "    <tr>\n",
       "      <th>000005634567754</th>\n",
       "      <td>rt aa</td>\n",
       "    </tr>\n",
       "    <tr>\n",
       "      <th>00001Belieber</th>\n",
       "      <td>back to school supplies haul giveaway</td>\n",
       "    </tr>\n",
       "    <tr>\n",
       "      <th>0000O_O000</th>\n",
       "      <td>rt ketchens never give up on yourself once you...</td>\n",
       "    </tr>\n",
       "    <tr>\n",
       "      <th>0000nooney</th>\n",
       "      <td>rt da world would b betta if everybody worry b...</td>\n",
       "    </tr>\n",
       "    <tr>\n",
       "      <th>0000sui</th>\n",
       "      <td>kisses ur tears away</td>\n",
       "    </tr>\n",
       "  </tbody>\n",
       "</table>\n",
       "</div>"
      ],
      "text/plain": [
       "                                                              text\n",
       "user                                                              \n",
       "000005634567754                                              rt aa\n",
       "00001Belieber                back to school supplies haul giveaway\n",
       "0000O_O000       rt ketchens never give up on yourself once you...\n",
       "0000nooney       rt da world would b betta if everybody worry b...\n",
       "0000sui                                       kisses ur tears away"
      ]
     },
     "execution_count": 15,
     "metadata": {},
     "output_type": "execute_result"
    }
   ],
   "source": [
    "tweets_clean = preprocess_data(csv_df)\n",
    "tweets_clean.head()"
   ]
  },
  {
   "cell_type": "markdown",
   "metadata": {},
   "source": [
    "## 2 Tf-IDF and make vectors\n",
    "\n",
    "Then we compute the tf-idf. Thus, we got a vecors for each user that we could compare with the vectors of any other user in order to make our recommander movie system for this user."
   ]
  },
  {
   "cell_type": "code",
   "execution_count": 16,
   "metadata": {},
   "outputs": [],
   "source": [
    "def make_vectors(df):\n",
    "    '''\n",
    "    with a user and all his tweets we can create a valid vectors in order\n",
    "    to compare it with all the user that have talked about movies \n",
    "    and then, recommanded him a movie\n",
    "    '''\n",
    "    # We build up a vectorizer to create our tf-idf matrix\n",
    "    vectorizer = TfidfVectorizer(strip_accents='ascii', ngram_range=(1,2), stop_words='english')\n",
    "    vectors = vectorizer.fit_transform(df['text'])\n",
    "    return vectorizer, vectors"
   ]
  },
  {
   "cell_type": "code",
   "execution_count": 17,
   "metadata": {},
   "outputs": [
    {
     "name": "stdout",
     "output_type": "stream",
     "text": [
      "Here is the shape of our TFIDF sparse matrix: 1804254 rows and 5030835 columns\n"
     ]
    }
   ],
   "source": [
    "vectorizer, tf_idf = make_vectors(tweets_clean)\n",
    "print(\"Here is the shape of our TFIDF sparse matrix: {} rows and {} columns\".format(tf_idf.shape[0], tf_idf.shape[1]))"
   ]
  }
 ],
 "metadata": {
  "kernelspec": {
   "display_name": "Python 3",
   "language": "python",
   "name": "python3"
  },
  "language_info": {
   "codemirror_mode": {
    "name": "ipython",
    "version": 3
   },
   "file_extension": ".py",
   "mimetype": "text/x-python",
   "name": "python",
   "nbconvert_exporter": "python",
   "pygments_lexer": "ipython3",
   "version": "3.6.3"
  }
 },
 "nbformat": 4,
 "nbformat_minor": 2
}
