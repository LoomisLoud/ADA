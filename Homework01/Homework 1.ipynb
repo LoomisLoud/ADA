{
 "cells": [
  {
   "cell_type": "markdown",
   "metadata": {},
   "source": [
    "# Table of Contents\n",
    " <p><div class=\"lev1\"><a href=\"#Task-1.-Compiling-Ebola-Data\"><span class=\"toc-item-num\">Task 1.&nbsp;&nbsp;</span>Compiling Ebola Data</a></div>\n",
    " <div class=\"lev1\"><a href=\"#Task-2.-RNA-Sequences\"><span class=\"toc-item-num\">Task 2.&nbsp;&nbsp;</span>RNA Sequences</a></div>\n",
    " <div class=\"lev1\"><a href=\"#Task-3.-Class-War-in-Titanic\"><span class=\"toc-item-num\">Task 3.&nbsp;&nbsp;</span>Class War in Titanic</a></div></p>"
   ]
  },
  {
   "cell_type": "code",
   "execution_count": null,
   "metadata": {
    "collapsed": true
   },
   "outputs": [],
   "source": [
    "DATA_FOLDER = 'data' # Use the data folder provided in Tutorial 02 - Intro to Pandas.\n",
    "EBOLA = DATA_FOLDER + \"/ebola\"\n",
    "GUINEA = EBOLA + \"/guinea_data\"\n",
    "LIBERIA = EBOLA + \"/liberia_data\"\n",
    "SIERRA_LEONE = EBOLA + \"/sl_data\""
   ]
  },
  {
   "cell_type": "markdown",
   "metadata": {},
   "source": [
    "## Task 1. Compiling Ebola Data\n",
    "\n",
    "The `DATA_FOLDER/ebola` folder contains summarized reports of Ebola cases from three countries (Guinea, Liberia and Sierra Leone) during the recent outbreak of the disease in West Africa. For each country, there are daily reports that contain various information about the outbreak in several cities in each country.\n",
    "\n",
    "Use pandas to import these data files into a single `Dataframe`.\n",
    "Using this `DataFrame`, calculate for *each country*, the *daily average* per year of *new cases* and *deaths*.\n",
    "Make sure you handle all the different expressions for *new cases* and *deaths* that are used in the reports."
   ]
  },
  {
   "cell_type": "code",
   "execution_count": null,
   "metadata": {},
   "outputs": [],
   "source": [
    "# Write your answer here\n",
    "import pandas as pd\n",
    "import glob\n",
    "\n",
    "def create_folder_data_frame(FOLDER):\n",
    "    list_ = []\n",
    "    for file_ in glob.glob(FOLDER + \"/*.csv\"):\n",
    "        df = pd.read_csv(file_, index_col=None)\n",
    "        list_.append(df)\n",
    "    return pd.concat(list_)\n",
    "\n",
    "def index_and_country(data_frame, country):\n",
    "    data_frame[\"Country\"] = country\n",
    "    data_frame.set_index(['Date', 'Description', 'Country'], inplace=True)\n",
    "    return data_frame\n",
    "    \n",
    "def preprocess_guinea(FOLDER):\n",
    "    guinea_frame = create_folder_data_frame(FOLDER)\n",
    "    guinea_frame.Date = pd.to_datetime(guinea_frame.Date)\n",
    "    guinea_frame = index_and_country(guinea_frame, \"Guinea\")\n",
    "    \n",
    "    return guinea_frame\n",
    "    \n",
    "preprocessed_guinea = preprocess_guinea(GUINEA)\n",
    "\n",
    "# Columns not towns: Date, Description Totals\n",
    "preprocessed_guinea"
   ]
  },
  {
   "cell_type": "code",
   "execution_count": null,
   "metadata": {},
   "outputs": [],
   "source": [
    "def preprocess_liberia(FOLDER):\n",
    "    liberia_frame = create_folder_data_frame(FOLDER)\n",
    "    liberia_frame.rename(columns={\"Variable\": \"Description\", \"National\": \"Totals\", 'Unnamed: 18': \"Unknown\"}, inplace=True)\n",
    "    liberia_frame.Date = pd.to_datetime(liberia_frame.Date)\n",
    "    liberia_frame = index_and_country(liberia_frame, \"Liberia\")\n",
    "    \n",
    "    return liberia_frame\n",
    "\n",
    "preprocessed_liberia = preprocess_liberia(LIBERIA)\n",
    "preprocessed_liberia"
   ]
  },
  {
   "cell_type": "code",
   "execution_count": null,
   "metadata": {
    "collapsed": true
   },
   "outputs": [],
   "source": [
    "def preprocess_sierra(FOLDER):\n",
    "    sierra_frame = create_folder_data_frame(FOLDER)\n",
    "    sierra_frame.rename(columns={\"variable\": \"Description\", \"National\": \"Totals\", 'Unnamed: 18': \"Unknown\", \"date\": \"Date\"}, inplace=True)\n",
    "    sierra_frame.Date = pd.to_datetime(sierra_frame.Date)\n",
    "    sierra_frame = index_and_country(sierra_frame, \"Sierra Leone\")\n",
    "    \n",
    "    return sierra_frame\n",
    "\n",
    "#create_folder_data_frame(SIERRA_LEONE).columns\n",
    "preprocessed_sierra = preprocess_sierra(SIERRA_LEONE)"
   ]
  },
  {
   "cell_type": "code",
   "execution_count": null,
   "metadata": {},
   "outputs": [],
   "source": [
    "sierra_descriptions = set([b for a,b,c, in list(preprocessed_sierra.index.values)])\n",
    "print(\"Sierra: {}\\n\".format(sierra_descriptions))\n",
    "\n",
    "guinea_descriptions = set([b for a,b,c, in list(preprocessed_guinea.index.values)])\n",
    "print(\"Guinea: {}\\n\".format(guinea_descriptions))\n",
    "\n",
    "liberia_descriptions = set([b for a,b,c, in list(preprocessed_liberia.index.values)])\n",
    "print(\"Liberia: {}\\n\".format(liberia_descriptions))\n",
    "#sierra[~sierra['34 Military Hospital'].isnull()]\n",
    "#preprocessed_sierra.iloc[0]\n"
   ]
  },
  {
   "cell_type": "markdown",
   "metadata": {},
   "source": [
    "## 1.3 Liberia"
   ]
  },
  {
   "cell_type": "code",
   "execution_count": null,
   "metadata": {},
   "outputs": [],
   "source": [
    "#Code pour tester la présence de NaN et du nombre de fois où une description apparait (draft)\n",
    "\n",
    "interest_liberia1 = { }\n",
    "            \n",
    "interest_liberia = { 'Total suspected cases': '',\n",
    "            'Total probable cases': '',\n",
    "            'Total confirmed cases': '',\n",
    "            'Cumulative confirmed, probable and suspected cases': '',\n",
    "            'Cumulative (confirmed + probable + suspected)': '',\n",
    "            'Cumulative (confirmed + probable + suspects)': '',\n",
    "            'Newly reported deaths': '', \n",
    "            'Total death/s in confirmed, probable, suspected cases': '',\n",
    "            'New Case/s (Suspected)': 'new_suspected', \n",
    "            'New Case/s (Probable)': 'new_probable', \n",
    "            'New case/s (confirmed)': 'new_confirmed', \n",
    "            'Total death/s in suspected cases': 'death_suspected', \n",
    "            'Total death/s in probable cases': 'death_probable', \n",
    "            'Total death/s in confirmed cases': 'death_confirmed'}\n",
    "\n",
    "interest_liberia_indices = preprocessed_liberia.index.get_level_values('Description').isin(interest_liberia.keys())\n",
    "liberia_df = preprocessed_liberia[interest_liberia_indices]\n",
    "\n",
    "liberia_df = liberia_df.sort_index(0)\n",
    "\n",
    "liberia_df = liberia_df[['Totals']].xs('Total death/s in confirmed, probable, suspected cases', level='Description')\n",
    "print(len(liberia_df))\n",
    "liberia_df\n",
    "\n",
    "#print(len(liberia_df))\n",
    "#liberia_df\n",
    "\n",
    "#liberia_df_null = liberia_df[pd.isnull(liberia_df['Totals'])].xs('New case/s (confirmed)', level='Description')\n",
    "#set([a for a,b in list(liberia_df_null.index.values)])"
   ]
  },
  {
   "cell_type": "markdown",
   "metadata": {},
   "source": [
    "- 'Total suspected cases’, 'Total confirmed cases', 'Total probable cases'  (octobre et ½ decembre NaN)\n",
    "- ‘Cumulative confirmed, probable and suspected cases’ seulement 33 lignes (octobre novembre decembre présent)\n",
    "- 'Cumulative (confirmed + probable + suspected)' : une seule date avec diplication d’index … (2014-10-04)\n",
    "- 'Cumulative (confirmed + probable + suspects)' : 11 dates (octobre)\n",
    "-  'Newly reported deaths' : toutes les dates mais : 12 NaN <br>\n",
    "{Timestamp('2014-09-20 00:00:00'), Timestamp('2014-11-28 00:00:00'), Timestamp('2014-11-30 00:00:00'), Timestamp('2014-12-01 00:00:00'), Timestamp('2014-12-02 00:00:00'), Timestamp('2014-12-03 00:00:00'), Timestamp('2014-12-04 00:00:00'), Timestamp('2014-12-05 00:00:00'), Timestamp('2014-12-06 00:00:00'), Timestamp('2014-12-07 00:00:00'), Timestamp('2014-12-08 00:00:00'), Timestamp('2014-12-09 00:00:00')}\n",
    "- 'Total death/s in confirmed, probable, suspected cases' : 76 lignes présentent (mais index en double pour le 10-04 …)  et deux dates NaN <br>\n",
    "{Timestamp('2014-09-20 00:00:00'), Timestamp('2014-10-11 00:00:00')}\n",
    "\n",
    "\n",
    "\n",
    "NaN Values des 6 descriptions de bases:\n",
    "- New Suspected/Probable : 3 jours (alors que parfois il y a des 0)\n",
    "- New Confirmed : tout le mois de Novembre ......\n",
    "- Total death/s in confirmed cases /probable/suspected : octobre/novembre/decembre ... (3 mois sur 6)\n",
    "- Newly reported deaths : 3 jours + decembre\n",
    "- Total death/s in confirmed, probable, suspected cases : 4 jours + novembre/decembre\n",
    "- Total confirmed cases : octobre, 1 jour en novembre, mi decembre"
   ]
  },
  {
   "cell_type": "code",
   "execution_count": null,
   "metadata": {},
   "outputs": [],
   "source": [
    "#Code pour voir si on peut completer new case confirmed avec total confirmed cases\n",
    "\n",
    "interest_liberia = {'New case/s (confirmed)': 'new_confirmed', \n",
    "        'Total confirmed cases': ''}\n",
    "\n",
    "interest_liberia_indices = preprocessed_liberia.index.get_level_values('Description').isin(interest_liberia.keys())\n",
    "liberia_df = preprocessed_liberia[interest_liberia_indices]\n",
    "\n",
    "liberia_df = liberia_df.sort_index(0)\n",
    "\n",
    "liberia_df = liberia_df[['Totals']]\n",
    "liberia_df = liberia_df.unstack('Description')\n",
    "liberia_df.columns = liberia_df.columns.droplevel()\n",
    "liberia_df.columns.rename('', inplace=True)\n",
    "\n",
    "liberia_df[['New case/s (confirmed)']] = liberia_df[['New case/s (confirmed)']].cumsum(0)\n",
    "\n",
    "liberia_df\n",
    "\n",
    "#Conclusion c'est pas le roux de secours"
   ]
  },
  {
   "cell_type": "code",
   "execution_count": null,
   "metadata": {},
   "outputs": [],
   "source": [
    "#Code pour comparer newly reported deaths, total death (c,p,s) et la somme des 3 totaux\n",
    "\n",
    "interest_liberia = {'Total death/s in suspected cases': 'death_suspected', \n",
    "            'Total death/s in probable cases': 'death_probable', \n",
    "            'Total death/s in confirmed cases': 'death_confirmed',\n",
    "            'Newly reported deaths': '', \n",
    "            'Total death/s in confirmed, probable, suspected cases': ''}\n",
    "\n",
    "interest_liberia_indices = preprocessed_liberia.index.get_level_values('Description').isin(interest_liberia.keys())\n",
    "liberia_df = preprocessed_liberia[interest_liberia_indices]\n",
    "\n",
    "liberia_df = liberia_df.sort_index(0)\n",
    "\n",
    "liberia_df = liberia_df[['Totals']]\n",
    "\n",
    "duplicate_indices = liberia_df[liberia_df.index.duplicated()].index.values\n",
    "for i in duplicate_indices:\n",
    "    liberia_df.loc[i].iloc[0] = round(liberia_df.loc[i].mean())\n",
    "liberia_df = liberia_df[~liberia_df.index.duplicated(keep='first')]\n",
    "\n",
    "liberia_df = liberia_df.unstack('Description')\n",
    "liberia_df.columns = liberia_df.columns.droplevel()\n",
    "liberia_df.columns.rename('', inplace=True)\n",
    "\n",
    "liberia_df['Total SUM'] = liberia_df[['Total death/s in suspected cases','Total death/s in probable cases','Total death/s in confirmed cases']].sum(1, skipna=False)\n",
    "\n",
    "liberia_df[['Newly reported deaths']] = liberia_df[['Newly reported deaths']].cumsum(0)\n",
    "\n",
    "liberia_df_diff = liberia_df[liberia_df['Total SUM'] != liberia_df['Total death/s in confirmed, probable, suspected cases']]\n",
    "print(len(liberia_df_diff))\n",
    "liberia_df_diff[['Total death/s in confirmed, probable, suspected cases','Total SUM','Newly reported deaths']]\n",
    "#La somme semble correspondre mais newly reported deaths et derrière"
   ]
  },
  {
   "cell_type": "code",
   "execution_count": null,
   "metadata": {},
   "outputs": [],
   "source": [
    "# The columns that are interest to us, \n",
    "interest_liberia = { 'New Case/s (Suspected)': 'new_suspected', \n",
    "        'New Case/s (Probable)': 'new_probable', \n",
    "        'New case/s (confirmed)': 'new_confirmed', \n",
    "        'Total death/s in suspected cases': 'death_suspected', \n",
    "        'Total death/s in probable cases': 'death_probable', \n",
    "        'Total death/s in confirmed cases': 'death_confirmed',\n",
    "        'Total death/s in confirmed, probable, suspected cases': 'total_death'}\n",
    "\n",
    "interest_liberia_indices = preprocessed_liberia.index.get_level_values('Description').isin(interest_liberia.keys())\n",
    "liberia_df = preprocessed_liberia[interest_liberia_indices]\n",
    "\n",
    "liberia_df = liberia_df.fillna(0).astype(int).sort_index(0)\n",
    "\n",
    "liberia_df['Cities_total'] = liberia_df.sum(1) - liberia_df.Totals\n",
    "liberia_df = liberia_df[['Cities_total', 'Totals']]\n",
    "\n",
    "liberia_df_limit = liberia_df[np.abs(liberia_df.Cities_total - liberia_df.Totals) > (0.1 * liberia_df.Totals)]\n",
    "\n",
    "liberia_df_total = liberia_df_limit.xs('Total death/s in confirmed, probable, suspected cases', level='Description')\n",
    "total_date = liberia_df_total.index.get_level_values(0)\n",
    "\n",
    "liberia_df_zero = liberia_df_limit[(liberia_df_limit.values == 0)]\n",
    "zero_date = liberia_df_zero.index.get_level_values(0)\n",
    "\n",
    "to_drop = total_date.append(zero_date).strftime('%Y-%m-%d')\n",
    "liberia_df.drop(to_drop, level=0, inplace=True)\n",
    "liberia_df['Mean'] = liberia_df.mean(1)\n",
    "liberia_df = liberia_df.Mean\n",
    "\n",
    "liberia_df = liberia_df.unstack('Description', fill_value=0)\n",
    "liberia_df.columns.rename('', inplace=True)\n",
    "\n",
    "liberia_df = liberia_df.rename(columns=interest_liberia)\n",
    "\n",
    "liberia_df['total_death_sum'] = liberia_df[['death_suspected','death_probable','death_confirmed']].sum(1)\n",
    "liberia_df['new_cases_sum'] = liberia_df[['new_probable','new_suspected','new_confirmed']].sum(1)\n",
    "\n",
    "liberia_df_diff = liberia_df[liberia_df['total_death_sum'] != liberia_df['total_death']]\n",
    "# ~~~~~~~~~~~~~~~~~~~~AFFICHER en HTML~~~~~~~~~~~~~~~~~~~~~\n",
    "liberia_df_diff[['total_death','total_death_sum']]\n",
    "# ~~~~~~~~~~~~~~~~~~~~~~~~~~~~~~~~~~~~~~~~~~~~~~~~~~~~~~~~~\n",
    "#Markdown pour expliquer pour on garde 'Total death/s in confirmed, probable, suspected cases' à la place de la somme\n",
    "\n",
    "liberia_df = liberia_df[['total_death', 'new_cases_sum']]\n",
    "\n",
    "liberia_df['total_death'] = liberia_df['total_death'] - liberia_df['total_death'][0]\n",
    "liberia_df['total_death'][1:] = liberia_df['total_death'][1:].copy().as_matrix() - liberia_df['total_death'][:-1].copy().as_matrix()\n",
    "\n",
    "liberia_df['new_cases_sum'][-6:] = liberia_df['new_cases_sum'][-6:] - liberia_df['new_cases_sum'][-6:][0]\n",
    "liberia_df['new_cases_sum'][-6:][1:] = liberia_df['new_cases_sum'][-6:][1:].copy().as_matrix() - liberia_df['new_cases_sum'][-6:][:-1].copy().as_matrix()\n",
    "\n",
    "#~~~~~~~~~~~~~~~~~~~ AFFICHER ~~~~~~~~~~~~~~~~~~~~~~~~~~~\n",
    "print(liberia_df['total_death'].value_counts().sort_index())\n",
    "# ~~~~~~~~~~~~~~~~~~~~~~~~~~~~~~~~~~~~~~~~~~~~~~~~~~~~~~\n",
    "#Markdown pour expliquer qu'on a eu des valeurs negatives qui sont apparus\n",
    "# aux valeurs qui ne faisaient pas augmenter le total (fausse)\n",
    "# et aussi il y a des extrems (les 4 valeurs au dessus de 1700)\n",
    "#On met tout à zero\n",
    "\n",
    "liberia_df[((liberia_df < 0) | (liberia_df > 1700))] = 0\n",
    "\n",
    "#~~~~~~~~~~~~~~~~~AFFICHER LE FINAL~~~~~~~~~~~~~~~~~~~~~~\n",
    "liberia_df"
   ]
  },
  {
   "cell_type": "markdown",
   "metadata": {},
   "source": [
    "Guinea: Total new cases registered so far\n",
    "        "
   ]
  },
  {
   "cell_type": "markdown",
   "metadata": {},
   "source": [
    "## Task 2. RNA Sequences\n",
    "\n",
    "In the `DATA_FOLDER/microbiome` subdirectory, there are 9 spreadsheets of microbiome data that was acquired from high-throughput RNA sequencing procedures, along with a 10<sup>th</sup> file that describes the content of each. \n",
    "\n",
    "Use pandas to import the first 9 spreadsheets into a single `DataFrame`.\n",
    "Then, add the metadata information from the 10<sup>th</sup> spreadsheet as columns in the combined `DataFrame`.\n",
    "Make sure that the final `DataFrame` has a unique index and all the `NaN` values have been replaced by the tag `unknown`."
   ]
  },
  {
   "cell_type": "code",
   "execution_count": null,
   "metadata": {
    "collapsed": true
   },
   "outputs": [],
   "source": [
    "# Write your answer here"
   ]
  },
  {
   "cell_type": "markdown",
   "metadata": {},
   "source": [
    "## Task 3. Class War in Titanic\n",
    "\n",
    "Use pandas to import the data file `Data/titanic.xls`. It contains data on all the passengers that travelled on the Titanic."
   ]
  },
  {
   "cell_type": "code",
   "execution_count": null,
   "metadata": {},
   "outputs": [],
   "source": [
    "from IPython.core.display import HTML\n",
    "HTML(filename=DATA_FOLDER+'/titanic.html')"
   ]
  },
  {
   "cell_type": "markdown",
   "metadata": {},
   "source": [
    "For each of the following questions state clearly your assumptions and discuss your findings:\n",
    "1. Describe the *type* and the *value range* of each attribute. Indicate and transform the attributes that can be `Categorical`. \n",
    "2. Plot histograms for the *travel class*, *embarkation port*, *sex* and *age* attributes. For the latter one, use *discrete decade intervals*. \n",
    "3. Calculate the proportion of passengers by *cabin floor*. Present your results in a *pie chart*.\n",
    "4. For each *travel class*, calculate the proportion of the passengers that survived. Present your results in *pie charts*.\n",
    "5. Calculate the proportion of the passengers that survived by *travel class* and *sex*. Present your results in *a single histogram*.\n",
    "6. Create 2 equally populated *age categories* and calculate survival proportions by *age category*, *travel class* and *sex*. Present your results in a `DataFrame` with unique index."
   ]
  },
  {
   "cell_type": "code",
   "execution_count": null,
   "metadata": {},
   "outputs": [],
   "source": [
    "# Write your answer here\n",
    "titanic_xls = pd.read_excel(DATA_FOLDER +'/titanic.xls')\n",
    "titanic_xls"
   ]
  }
 ],
 "metadata": {
  "kernelspec": {
   "display_name": "Python 3",
   "language": "python",
   "name": "python3"
  },
  "language_info": {
   "codemirror_mode": {
    "name": "ipython",
    "version": 3
   },
   "file_extension": ".py",
   "mimetype": "text/x-python",
   "name": "python",
   "nbconvert_exporter": "python",
   "pygments_lexer": "ipython3",
   "version": "3.6.1"
  }
 },
 "nbformat": 4,
 "nbformat_minor": 2
}
