{
 "cells": [
  {
   "cell_type": "markdown",
   "metadata": {},
   "source": [
    "# Homework 0\n",
    "## Gunshots dataset"
   ]
  },
  {
   "cell_type": "code",
   "execution_count": null,
   "metadata": {
    "scrolled": false
   },
   "outputs": [],
   "source": [
    "import pandas as pd\n",
    "\n",
    "# Importing the data and removing all of the datapoints containing \"None Selected\" (generalizations)\n",
    "gunshots_data = pd.DataFrame.from_csv('interactive_data.csv')\n",
    "gunshots_data = gunshots_data[(gunshots_data.Age != \"None selected\")\n",
    "                              & (gunshots_data.Gender != \"None selected\")\n",
    "                              & (gunshots_data.Intent != \"None selected\")\n",
    "                              & (gunshots_data.Race != \"None selected\")]\n",
    "print(\"Our data is defined by: {}\\n\".format(\", \".join(gunshots_data.columns)))\n",
    "\n",
    "print(\"The different categories of gunshots are: {}\\n\".format(\", \".join(gunshots_data.Intent.unique())))\n",
    "\n",
    "all_gunshots = gunshots_data.Deaths.sum()\n",
    "suicide_gunshots = gunshots_data.loc[gunshots_data.Intent == \"Suicide\"]\n",
    "suicide_deaths = suicide_gunshots.Deaths.sum()\n",
    "print(\"Of all gunshots, {:.5}% were suicides.\\n\".format(suicide_deaths / all_gunshots * 100))\n",
    "\n",
    "male_suicide_gunshots = suicide_gunshots.loc[(suicide_gunshots.Gender == \"Male\")]\n",
    "male_suicide_deaths = male_suicide_gunshots.Deaths.sum()\n",
    "print(\"Of all suicide victims, {:.5}% were male.\\n\".format(male_suicide_deaths / suicide_deaths * 100))\n",
    "\n",
    "fortyfive_male_suicide_gunshots = male_suicide_gunshots.loc[male_suicide_gunshots.Age.isin([\"35 - 64\", \"65+\"])]\n",
    "fortyfive_male_suicide_deaths = fortyfive_male_suicide_gunshots.Deaths.sum()\n",
    "print(\"Of all suicide victims, {:.5}% were male above 45 years old.\\n\".format(fortyfive_male_suicide_deaths / suicide_deaths * 100))\n",
    "\n",
    "homicides_df = gunshots_data[gunshots_data.Intent == \"Homicide\"]\n",
    "homicides_count = homicides_df.Deaths.sum()\n",
    "print(\"{} were homicides, about {:.5}% of total gunshot deaths.\\n\".format(homicides_count, homicides_count / all_gunshots * 100))\n",
    "\n",
    "young_homicides_df = homicides_df[homicides_df.Age.isin([\"Under 15\", \"15 - 34\"])]\n",
    "young_homicides_count = young_homicides_df.Deaths.sum()\n",
    "print(\"Of all homicide victims, {:.5}% are young men.\\n\".format(young_homicides_count / homicides_count * 100))\n",
    "\n",
    "young_black_homicides_df = young_homicides_df[young_homicides_df.Race == \"Black\"]\n",
    "young_black_homicides_count = young_black_homicides_df.Deaths.sum()\n",
    "print(\"In all of these young men victims of homicide, {:.5} were black men.\\n\".format(young_black_homicides_count / young_homicides_count * 100))\n",
    "\n",
    "women_homicides_df = homicides_df[homicides_df.Gender == \"Female\"]\n",
    "women_homicides_count = women_homicides_df.Deaths.sum()\n",
    "print(\"{:.5}% of homicides are done on women.\\n\".format(women_homicides_count / homicides_count * 100))\n",
    "\n",
    "accident_unclassified_df = gunshots_data[gunshots_data.Intent.isin([\"Accident\", \"Unknown\"])]\n",
    "accident_unclassified_count = accident_unclassified_df.Deaths.sum()\n",
    "print(\"Finally, {:.4}% of all gunshots were accidents or of unknown origin.\".format(accident_unclassified_count / all_gunshots * 100))"
   ]
  }
 ],
 "metadata": {
  "kernelspec": {
   "display_name": "Python 3",
   "language": "python",
   "name": "python3"
  },
  "language_info": {
   "codemirror_mode": {
    "name": "ipython",
    "version": 3
   },
   "file_extension": ".py",
   "mimetype": "text/x-python",
   "name": "python",
   "nbconvert_exporter": "python",
   "pygments_lexer": "ipython3",
   "version": "3.6.2"
  }
 },
 "nbformat": 4,
 "nbformat_minor": 2
}
